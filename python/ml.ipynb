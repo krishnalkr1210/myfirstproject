{
 "cells": [
  {
   "cell_type": "code",
   "execution_count": 1,
   "metadata": {},
   "outputs": [
    {
     "ename": "ModuleNotFoundError",
     "evalue": "No module named 'sklearn'",
     "output_type": "error",
     "traceback": [
      "\u001b[1;31m---------------------------------------------------------------------------\u001b[0m",
      "\u001b[1;31mModuleNotFoundError\u001b[0m                       Traceback (most recent call last)",
      "\u001b[1;32mc:\\Users\\krish\\OneDrive\\Desktop\\myfirstproject\\python\\ml.ipynb Cell 1'\u001b[0m in \u001b[0;36m<cell line: 2>\u001b[1;34m()\u001b[0m\n\u001b[0;32m      <a href='vscode-notebook-cell:/c%3A/Users/krish/OneDrive/Desktop/myfirstproject/python/ml.ipynb#ch0000000?line=0'>1</a>\u001b[0m \u001b[39m#by using sk learn we implement the linear regression\u001b[39;00m\n\u001b[1;32m----> <a href='vscode-notebook-cell:/c%3A/Users/krish/OneDrive/Desktop/myfirstproject/python/ml.ipynb#ch0000000?line=1'>2</a>\u001b[0m \u001b[39mfrom\u001b[39;00m \u001b[39msklearn\u001b[39;00m\u001b[39m.\u001b[39;00m\u001b[39mdatasets\u001b[39;00m \u001b[39mimport\u001b[39;00m load_diabetes\n\u001b[0;32m      <a href='vscode-notebook-cell:/c%3A/Users/krish/OneDrive/Desktop/myfirstproject/python/ml.ipynb#ch0000000?line=2'>3</a>\u001b[0m \u001b[39mimport\u001b[39;00m \u001b[39mnumpy\u001b[39;00m \u001b[39mas\u001b[39;00m \u001b[39mnp\u001b[39;00m\n\u001b[0;32m      <a href='vscode-notebook-cell:/c%3A/Users/krish/OneDrive/Desktop/myfirstproject/python/ml.ipynb#ch0000000?line=3'>4</a>\u001b[0m \u001b[39mimport\u001b[39;00m \u001b[39mpandas\u001b[39;00m \u001b[39mas\u001b[39;00m \u001b[39mpd\u001b[39;00m\n",
      "\u001b[1;31mModuleNotFoundError\u001b[0m: No module named 'sklearn'"
     ]
    }
   ],
   "source": [
    "#by using sk learn we implement the linear regression\n",
    "from sklearn.datasets import load_diabetes\n",
    "import numpy as np\n",
    "import pandas as pd"
   ]
  },
  {
   "cell_type": "code",
   "execution_count": null,
   "metadata": {},
   "outputs": [
    {
     "ename": "NameError",
     "evalue": "name 'load_diabetes' is not defined",
     "output_type": "error",
     "traceback": [
      "\u001b[1;31m---------------------------------------------------------------------------\u001b[0m",
      "\u001b[1;31mNameError\u001b[0m                                 Traceback (most recent call last)",
      "\u001b[1;32mc:\\Users\\krish\\OneDrive\\Desktop\\myfirstproject\\python\\ml.ipynb Cell 2'\u001b[0m in \u001b[0;36m<cell line: 1>\u001b[1;34m()\u001b[0m\n\u001b[1;32m----> <a href='vscode-notebook-cell:/c%3A/Users/krish/OneDrive/Desktop/myfirstproject/python/ml.ipynb#ch0000001?line=0'>1</a>\u001b[0m diabetes \u001b[39m=\u001b[39m load_diabetes()\n\u001b[0;32m      <a href='vscode-notebook-cell:/c%3A/Users/krish/OneDrive/Desktop/myfirstproject/python/ml.ipynb#ch0000001?line=1'>2</a>\u001b[0m diabetes_df\u001b[39m=\u001b[39mpd\u001b[39m.\u001b[39mDataFrame(diabetes\u001b[39m.\u001b[39mdata,columns\u001b[39m=\u001b[39mdiabetes\u001b[39m.\u001b[39mfeature_names)\n\u001b[0;32m      <a href='vscode-notebook-cell:/c%3A/Users/krish/OneDrive/Desktop/myfirstproject/python/ml.ipynb#ch0000001?line=2'>3</a>\u001b[0m diabetes\n",
      "\u001b[1;31mNameError\u001b[0m: name 'load_diabetes' is not defined"
     ]
    }
   ],
   "source": [
    "diabetes = load_diabetes()\n",
    "diabetes_df=pd.DataFrame(diabetes.data,columns=diabetes.feature_names)\n",
    "diabetes"
   ]
  }
 ],
 "metadata": {
  "interpreter": {
   "hash": "6f41d393db65569967021cebd70880170e88d484c2a7a91a1d8ac2297debc854"
  },
  "kernelspec": {
   "display_name": "Python 3.10.2 64-bit",
   "language": "python",
   "name": "python3"
  },
  "language_info": {
   "codemirror_mode": {
    "name": "ipython",
    "version": 3
   },
   "file_extension": ".py",
   "mimetype": "text/x-python",
   "name": "python",
   "nbconvert_exporter": "python",
   "pygments_lexer": "ipython3",
   "version": "3.10.4"
  },
  "orig_nbformat": 4
 },
 "nbformat": 4,
 "nbformat_minor": 2
}
